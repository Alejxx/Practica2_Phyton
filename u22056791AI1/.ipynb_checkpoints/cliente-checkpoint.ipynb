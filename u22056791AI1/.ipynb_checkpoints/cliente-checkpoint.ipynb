import threading
import sys
import socket
import pickle
import os

class Cliente():
    puerto_ = input('Escriba el puerto')
    ip_ = input('Escriba la dirección ip')
    username_ = input('Escriba el nombre de usuario que desea tener')
	def __init__(self, host=username_, port=puerto_):
        
		self.sock = socket.socket()
		self.sock.connect((str(host), int(port)))
		hilo_recv_mensaje = threading.Thread(target=self.recibir)
		hilo_recv_mensaje.daemon = True
		hilo_recv_mensaje.start()
		print('Hilo con PID',os.getpid())
		print('Hilos activos', threading.active_count())

		while True:
			msg = username_ + input('\nEscriba texto ? ** Enviar = ENTER ** Abandonar Chat = Q \n')
			if msg != 'Q' :
				self.enviar(msg)
			else:
				print("Ha abandonado el chat")
				self.sock.close()
				sys.exit()

	def recibir(self):
		while True:
			try:
				data = self.sock.recv(32)
				if data:
					print(pickle.loads(data))
			except:
				pass

	def enviar(self, msg):
		self.sock.send(pickle.dumps(msg))

c = Cliente()

		