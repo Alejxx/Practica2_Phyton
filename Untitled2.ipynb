{
 "cells": [
  {
   "cell_type": "markdown",
   "id": "487e5567-4977-48fc-afb1-994f2844986f",
   "metadata": {},
   "source": [
    "## Multicore"
   ]
  },
  {
   "cell_type": "code",
   "execution_count": 29,
   "id": "e6b2ffaf-7c1e-480e-8c9f-c20736bce9f5",
   "metadata": {},
   "outputs": [],
   "source": [
    "import multiprocessing as mp, os, numpy as np, math"
   ]
  },
  {
   "cell_type": "code",
   "execution_count": 19,
   "id": "cb403aa5-49a8-4928-bf96-32456e186926",
   "metadata": {},
   "outputs": [],
   "source": [
    "a=np.array([[1,2,1],[10,11,12],[1,1,1]])"
   ]
  },
  {
   "cell_type": "code",
   "execution_count": 20,
   "id": "0f83db2e-ceca-4537-869e-32043bdb6720",
   "metadata": {},
   "outputs": [],
   "source": [
    "b=np.array([[1,2,4],[3,4,4],[5,6,4]])"
   ]
  },
  {
   "cell_type": "code",
   "execution_count": 21,
   "id": "8aa9e37a-2f3b-4ff6-abbb-acaa371c7ae5",
   "metadata": {},
   "outputs": [],
   "source": [
    "ab = a*b"
   ]
  },
  {
   "cell_type": "code",
   "execution_count": 6,
   "id": "2b381427-cbc7-4940-ba50-cd878f92901a",
   "metadata": {},
   "outputs": [
    {
     "data": {
      "text/plain": [
       "3"
      ]
     },
     "execution_count": 6,
     "metadata": {},
     "output_type": "execute_result"
    }
   ],
   "source": [
    "len(a)"
   ]
  },
  {
   "cell_type": "code",
   "execution_count": 7,
   "id": "435f258d-7073-405c-b810-b1564ec6a52d",
   "metadata": {},
   "outputs": [
    {
     "data": {
      "text/plain": [
       "2"
      ]
     },
     "execution_count": 7,
     "metadata": {},
     "output_type": "execute_result"
    }
   ],
   "source": [
    "len(b)"
   ]
  },
  {
   "cell_type": "code",
   "execution_count": 22,
   "id": "d220b55d-26af-421c-9644-713cf81fdf02",
   "metadata": {},
   "outputs": [
    {
     "data": {
      "text/plain": [
       "array([[ 1,  4,  4],\n",
       "       [30, 44, 48],\n",
       "       [ 5,  6,  4]])"
      ]
     },
     "execution_count": 22,
     "metadata": {},
     "output_type": "execute_result"
    }
   ],
   "source": [
    "ab"
   ]
  },
  {
   "cell_type": "code",
   "execution_count": 31,
   "id": "87fe88b4-e93d-43ff-95b1-f5a28e90b1a7",
   "metadata": {},
   "outputs": [
    {
     "data": {
      "text/plain": [
       "<multiprocessing.sharedctypes.c_long_Array_80 at 0x265eae64940>"
      ]
     },
     "execution_count": 31,
     "metadata": {},
     "output_type": "execute_result"
    }
   ],
   "source": [
    "mp.RawArray(\"i\",80)"
   ]
  },
  {
   "cell_type": "code",
   "execution_count": 30,
   "id": "c6944501-671b-4019-85e0-c0735953b662",
   "metadata": {},
   "outputs": [
    {
     "data": {
      "text/plain": [
       "3"
      ]
     },
     "execution_count": 30,
     "metadata": {},
     "output_type": "execute_result"
    }
   ],
   "source": [
    "math.ceil(20/os.cpu_count())"
   ]
  },
  {
   "cell_type": "code",
   "execution_count": null,
   "id": "2e22b118-ba36-4688-b7b7-0d20c807f0da",
   "metadata": {},
   "outputs": [],
   "source": []
  },
  {
   "cell_type": "code",
   "execution_count": null,
   "id": "923cd6f2-e7b7-4915-93ed-f019a9614c72",
   "metadata": {},
   "outputs": [],
   "source": []
  }
 ],
 "metadata": {
  "kernelspec": {
   "display_name": "Python 3",
   "language": "python",
   "name": "python3"
  },
  "language_info": {
   "codemirror_mode": {
    "name": "ipython",
    "version": 3
   },
   "file_extension": ".py",
   "mimetype": "text/x-python",
   "name": "python",
   "nbconvert_exporter": "python",
   "pygments_lexer": "ipython3",
   "version": "3.8.8"
  }
 },
 "nbformat": 4,
 "nbformat_minor": 5
}
