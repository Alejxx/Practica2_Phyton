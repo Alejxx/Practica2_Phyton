{
 "cells": [
  {
   "cell_type": "markdown",
   "id": "58ef233e-48e9-4bf5-8528-4d9a78325939",
   "metadata": {},
   "source": [
    "## Ejercicio: Descargar muchas imágenes simultáneamente\n"
   ]
  },
  {
   "cell_type": "code",
   "execution_count": 1,
   "id": "fb5cffce-322e-4fb2-b2c9-82db61a4ed2e",
   "metadata": {},
   "outputs": [],
   "source": [
    "import threading as th, time, requests, urllib.request as rq, concurrent as ct, IPython as IP"
   ]
  },
  {
   "cell_type": "code",
   "execution_count": 6,
   "id": "047edbb2-9fed-4d2b-9ae3-95362e4de81c",
   "metadata": {},
   "outputs": [
    {
     "data": {
      "text/plain": [
       "<function abs(x, /)>"
      ]
     },
     "execution_count": 6,
     "metadata": {},
     "output_type": "execute_result"
    }
   ],
   "source": [
    "abs"
   ]
  },
  {
   "cell_type": "code",
   "execution_count": 77,
   "id": "9effb46a-3233-4d6c-b066-fc894fb3ab44",
   "metadata": {
    "collapsed": true,
    "jupyter": {
     "outputs_hidden": true
    },
    "tags": []
   },
   "outputs": [
    {
     "name": "stderr",
     "output_type": "stream",
     "text": [
      "Exception in thread Exception in thread Thread-67:\n",
      "Traceback (most recent call last):\n",
      "  File \"C:\\Users\\alejx\\anaconda3\\lib\\threading.py\", line 932, in _bootstrap_inner\n",
      "Thread-66:\n",
      "Traceback (most recent call last):\n",
      "  File \"C:\\Users\\alejx\\anaconda3\\lib\\threading.py\", line 932, in _bootstrap_inner\n",
      "Exception in thread Thread-68:\n",
      "Traceback (most recent call last):\n",
      "  File \"C:\\Users\\alejx\\anaconda3\\lib\\threading.py\", line 932, in _bootstrap_inner\n",
      "Exception in thread Thread-69:\n",
      "Traceback (most recent call last):\n",
      "  File \"C:\\Users\\alejx\\anaconda3\\lib\\threading.py\", line 932, in _bootstrap_inner\n",
      "    self.run()\n",
      "  File \"C:\\Users\\alejx\\anaconda3\\lib\\threading.py\", line 870, in run\n",
      "Exception in thread     Exception in thread self.run()Thread-70    self.run()\n",
      "  File \"C:\\Users\\alejx\\anaconda3\\lib\\threading.py\", line 870, in run\n",
      "    Exception in thread \n",
      ":\n",
      "self.run()\n",
      "  File \"C:\\Users\\alejx\\anaconda3\\lib\\threading.py\", line 870, in run\n",
      "Thread-71:\n",
      "Traceback (most recent call last):\n",
      "  File \"C:\\Users\\alejx\\anaconda3\\lib\\threading.py\", line 932, in _bootstrap_inner\n",
      "Traceback (most recent call last):\n",
      "  File \"C:\\Users\\alejx\\anaconda3\\lib\\threading.py\", line 932, in _bootstrap_inner\n",
      "Thread-72:\n",
      "    Traceback (most recent call last):\n",
      "  File \"C:\\Users\\alejx\\anaconda3\\lib\\threading.py\", line 932, in _bootstrap_inner\n",
      "  File \"C:\\Users\\alejx\\anaconda3\\lib\\threading.py\", line 870, in run\n",
      "Exception in thread Thread-73:\n",
      "Traceback (most recent call last):\n",
      "  File \"C:\\Users\\alejx\\anaconda3\\lib\\threading.py\", line 932, in _bootstrap_inner\n",
      "self._target(*self._args, **self._kwargs)\n",
      "  File \"<ipython-input-68-141cb5e46f93>\", line 2, in descarga\n",
      "Exception in thread Thread-74:\n",
      "Traceback (most recent call last):\n",
      "  File \"C:\\Users\\alejx\\anaconda3\\lib\\threading.py\", line 932, in _bootstrap_inner\n",
      "                    Exception in thread Thread-75:\n",
      "Traceback (most recent call last):\n",
      "  File \"C:\\Users\\alejx\\anaconda3\\lib\\threading.py\", line 932, in _bootstrap_inner\n",
      "self._target(*self._args, **self._kwargs)self.run()self._target(*self._args, **self._kwargs)    self._target(*self._args, **self._kwargs)    self.run()\n",
      "  File \"<ipython-input-68-141cb5e46f93>\", line 2, in descarga\n",
      "\n",
      "  File \"<ipython-input-68-141cb5e46f93>\", line 2, in descarga\n",
      "\n",
      "  File \"C:\\Users\\alejx\\anaconda3\\lib\\threading.py\", line 870, in run\n",
      "self.run()\n",
      "  File \"C:\\Users\\alejx\\anaconda3\\lib\\threading.py\", line 870, in run\n",
      "\n",
      "self.run()  File \"C:\\Users\\alejx\\anaconda3\\lib\\threading.py\", line 870, in run\n",
      "\n",
      "  File \"<ipython-input-68-141cb5e46f93>\", line 2, in descarga\n",
      "\n",
      "  File \"C:\\Users\\alejx\\anaconda3\\lib\\threading.py\", line 870, in run\n",
      "    self.run()\n",
      "  File \"C:\\Users\\alejx\\anaconda3\\lib\\threading.py\", line 870, in run\n",
      "    self._target(*self._args, **self._kwargs)\n",
      "            self._target(*self._args, **self._kwargs)\n",
      "  File \"<ipython-input-68-141cb5e46f93>\", line 2, in descarga\n",
      "self.run()self._target(*self._args, **self._kwargs)\n",
      "  File \"<ipython-input-68-141cb5e46f93>\", line 2, in descarga\n",
      "      File \"<ipython-input-68-141cb5e46f93>\", line 2, in descarga\n",
      "PermissionErrorself._target(*self._args, **self._kwargs)\n",
      "  File \"<ipython-input-68-141cb5e46f93>\", line 2, in descarga\n",
      ": [Errno 13] Permission denied: 'C:\\\\Users\\\\alejx\\\\cosas'\n",
      "\n",
      "  File \"C:\\Users\\alejx\\anaconda3\\lib\\threading.py\", line 870, in run\n",
      "    PermissionErrorself._target(*self._args, **self._kwargs): [Errno 13] Permission denied: 'C:\\\\Users\\\\alejx\\\\cosas'\n",
      "\n",
      "PermissionError: [Errno 13] Permission denied: 'C:\\\\Users\\\\alejx\\\\cosas'\n"
     ]
    }
   ],
   "source": [
    "for i in range (10):\n",
    "    urls_=\"https://storage.googleapis.com/christian_vladimir_sucuzhanay_bucket/pictures_videos/pic00\"+str(i)+\"jpeg\"\n",
    "    threading.Thread(target=descarga).start()"
   ]
  },
  {
   "cell_type": "code",
   "execution_count": 9,
   "id": "0c7a467b-e06a-4dda-9c8e-6701ef66d84c",
   "metadata": {
    "tags": []
   },
   "outputs": [
    {
     "ename": "NameError",
     "evalue": "name 'request' is not defined",
     "output_type": "error",
     "traceback": [
      "\u001b[1;31m---------------------------------------------------------------------------\u001b[0m",
      "\u001b[1;31mNameError\u001b[0m                                 Traceback (most recent call last)",
      "\u001b[1;32m<ipython-input-9-ac4f8cd1fd91>\u001b[0m in \u001b[0;36m<module>\u001b[1;34m\u001b[0m\n\u001b[1;32m----> 1\u001b[1;33m \u001b[0mrequest\u001b[0m\u001b[1;33m.\u001b[0m\u001b[0murlretrieve\u001b[0m\u001b[1;33m(\u001b[0m\u001b[0murls_\u001b[0m\u001b[1;33m,\u001b[0m\u001b[1;34mr\"C:\\Users\\alejx\\cosas\"\u001b[0m\u001b[1;33m)\u001b[0m\u001b[1;33m\u001b[0m\u001b[1;33m\u001b[0m\u001b[0m\n\u001b[0m",
      "\u001b[1;31mNameError\u001b[0m: name 'request' is not defined"
     ]
    }
   ],
   "source": [
    "request.urlretrieve(urls_,r\"C:\\Users\\alejx\\cosas\")"
   ]
  },
  {
   "cell_type": "code",
   "execution_count": 8,
   "id": "27c835f5-cdb9-4c4b-a3ac-2949d95eded4",
   "metadata": {},
   "outputs": [],
   "source": [
    "def a_mano(lt):\n",
    "    wt=0\n",
    "    for i in lt:\n",
    "        wt +=descarga(i)\n",
    "    return wt"
   ]
  },
  {
   "cell_type": "code",
   "execution_count": 85,
   "id": "81170c01-a5ae-43c5-b849-b87a5e3a3c4c",
   "metadata": {},
   "outputs": [],
   "source": [
    "def dwl_atodammaquina(lt):\n",
    "    wt=0\n",
    "    with ct.futures.TreadPoolExecutor() as wk:\n",
    "        futures=[wk.submit(descarga,i)for i in lt]\n",
    "        for f in ct.as_completed(futures):\n",
    "            wt+=f.result()\n",
    "    return wt"
   ]
  },
  {
   "cell_type": "code",
   "execution_count": null,
   "id": "0e7d91f0-c239-4a6a-9beb-c1866adea77e",
   "metadata": {
    "tags": []
   },
   "outputs": [],
   "source": [
    "def descarga():\n",
    "    with open(r\"C:\\Users\\alejx\\cosas\", 'wb')as file:\n",
    "        file.write(data.content)"
   ]
  },
  {
   "cell_type": "code",
   "execution_count": 89,
   "id": "fc6c67db-f776-4193-be48-9aedc1e0886f",
   "metadata": {},
   "outputs": [],
   "source": [
    "def  dwl(img):\n",
    "    img_url = 'https://storage.googleapis.com/christian_vladimir_sucuzhanay_bucket/pictures_videos/pic{:03d}.jpg'\n",
    "    with rq.urlopen(img_url, timeout=80) as conn:\n",
    "        return len(conn.read())"
   ]
  },
  {
   "cell_type": "code",
   "execution_count": 86,
   "id": "1e37db86-999d-4955-9050-5acb94f767c1",
   "metadata": {},
   "outputs": [],
   "source": [
    "## libreria concurrencia\n",
    "## import concurrent.futures"
   ]
  },
  {
   "cell_type": "code",
   "execution_count": null,
   "id": "26904565-a9ec-4c97-b8d3-b38e7d91afc5",
   "metadata": {},
   "outputs": [],
   "source": []
  }
 ],
 "metadata": {
  "kernelspec": {
   "display_name": "Python 3",
   "language": "python",
   "name": "python3"
  },
  "language_info": {
   "codemirror_mode": {
    "name": "ipython",
    "version": 3
   },
   "file_extension": ".py",
   "mimetype": "text/x-python",
   "name": "python",
   "nbconvert_exporter": "python",
   "pygments_lexer": "ipython3",
   "version": "3.8.8"
  }
 },
 "nbformat": 4,
 "nbformat_minor": 5
}
