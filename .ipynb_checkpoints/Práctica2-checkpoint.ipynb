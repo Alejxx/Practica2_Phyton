{
 "cells": [
  {
   "cell_type": "markdown",
   "id": "f358f87b",
   "metadata": {},
   "source": [
    "Práctica2"
   ]
  },
  {
   "cell_type": "markdown",
   "id": "609eff45",
   "metadata": {},
   "source": [
    "1. Cuantos cpu's tiene su equipo?"
   ]
  },
  {
   "cell_type": "code",
   "execution_count": null,
   "id": "fb03964c",
   "metadata": {},
   "outputs": [],
   "source": [
    "cpu.co"
   ]
  }
 ],
 "metadata": {
  "kernelspec": {
   "display_name": "Python 3",
   "language": "python",
   "name": "python3"
  },
  "language_info": {
   "codemirror_mode": {
    "name": "ipython",
    "version": 3
   },
   "file_extension": ".py",
   "mimetype": "text/x-python",
   "name": "python",
   "nbconvert_exporter": "python",
   "pygments_lexer": "ipython3",
   "version": "3.8.8"
  }
 },
 "nbformat": 4,
 "nbformat_minor": 5
}
