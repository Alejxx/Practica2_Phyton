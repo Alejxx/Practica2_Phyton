{
 "cells": [
  {
   "cell_type": "markdown",
   "id": "487e5567-4977-48fc-afb1-994f2844986f",
   "metadata": {},
   "source": [
    "## Multicore"
   ]
  },
  {
   "cell_type": "code",
   "execution_count": 2,
   "id": "e6b2ffaf-7c1e-480e-8c9f-c20736bce9f5",
   "metadata": {},
   "outputs": [],
   "source": [
    "import multiprocessing as mp, os, numpy as np, random"
   ]
  },
  {
   "cell_type": "code",
   "execution_count": 10,
   "id": "cb403aa5-49a8-4928-bf96-32456e186926",
   "metadata": {},
   "outputs": [],
   "source": [
    "a=np.array([[1,2],[3,4],[5,6],[9,9]])"
   ]
  },
  {
   "cell_type": "code",
   "execution_count": 11,
   "id": "0f83db2e-ceca-4537-869e-32043bdb6720",
   "metadata": {},
   "outputs": [],
   "source": [
    "b=np.array([[1,2,1],[10,11,12]])"
   ]
  },
  {
   "cell_type": "code",
   "execution_count": 12,
   "id": "e556e036-061b-44e5-9ebe-40d6ee33cef3",
   "metadata": {},
   "outputs": [],
   "source": [
    "ab = np.dot(a,b)"
   ]
  },
  {
   "cell_type": "code",
   "execution_count": 13,
   "id": "2b381427-cbc7-4940-ba50-cd878f92901a",
   "metadata": {},
   "outputs": [
    {
     "data": {
      "text/plain": [
       "4"
      ]
     },
     "execution_count": 13,
     "metadata": {},
     "output_type": "execute_result"
    }
   ],
   "source": [
    "len(a)"
   ]
  },
  {
   "cell_type": "code",
   "execution_count": 14,
   "id": "435f258d-7073-405c-b810-b1564ec6a52d",
   "metadata": {},
   "outputs": [
    {
     "data": {
      "text/plain": [
       "2"
      ]
     },
     "execution_count": 14,
     "metadata": {},
     "output_type": "execute_result"
    }
   ],
   "source": [
    "len(b)"
   ]
  },
  {
   "cell_type": "code",
   "execution_count": 15,
   "id": "d220b55d-26af-421c-9644-713cf81fdf02",
   "metadata": {},
   "outputs": [
    {
     "data": {
      "text/plain": [
       "array([[ 21,  24,  25],\n",
       "       [ 43,  50,  51],\n",
       "       [ 65,  76,  77],\n",
       "       [ 99, 117, 117]])"
      ]
     },
     "execution_count": 15,
     "metadata": {},
     "output_type": "execute_result"
    }
   ],
   "source": [
    "ab"
   ]
  },
  {
   "cell_type": "code",
   "execution_count": 17,
   "id": "003d85c0-ad7e-4574-97f4-d76d646ca5ef",
   "metadata": {},
   "outputs": [],
   "source": [
    "def par(a, b):\n",
    "    n_cores\n",
    "    pass"
   ]
  },
  {
   "cell_type": "code",
   "execution_count": 3,
   "id": "9616d7d5-21fe-4a5e-b5c8-ff63eb5cc3d7",
   "metadata": {},
   "outputs": [],
   "source": [
    "def par_core(a,b,mc, i_mc, f_mc):\n",
    "    for i in range(i_mc, f_mc):\n",
    "        for j in range(len(b[10])):\n",
    "            mc[i*len(b[0])+j]+=a[j][k]*b[k][j]"
   ]
  },
  {
   "cell_type": "code",
   "execution_count": null,
   "id": "b04409ea-b5c3-4aa1-86b7-6ccf6f115824",
   "metadata": {},
   "outputs": [],
   "source": []
  }
 ],
 "metadata": {
  "kernelspec": {
   "display_name": "Python 3",
   "language": "python",
   "name": "python3"
  },
  "language_info": {
   "codemirror_mode": {
    "name": "ipython",
    "version": 3
   },
   "file_extension": ".py",
   "mimetype": "text/x-python",
   "name": "python",
   "nbconvert_exporter": "python",
   "pygments_lexer": "ipython3",
   "version": "3.8.8"
  }
 },
 "nbformat": 4,
 "nbformat_minor": 5
}
