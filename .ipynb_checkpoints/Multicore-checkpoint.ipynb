{
 "cells": [
  {
   "cell_type": "markdown",
   "id": "487e5567-4977-48fc-afb1-994f2844986f",
   "metadata": {},
   "source": [
    "## Multicore"
   ]
  },
  {
   "cell_type": "code",
   "execution_count": 21,
   "id": "e6b2ffaf-7c1e-480e-8c9f-c20736bce9f5",
   "metadata": {},
   "outputs": [],
   "source": [
    "import multiprocessing as mp, os, numpy as np"
   ]
  },
  {
   "cell_type": "code",
   "execution_count": 28,
   "id": "cb403aa5-49a8-4928-bf96-32456e186926",
   "metadata": {},
   "outputs": [],
   "source": [
    "a=np.array([[1,2],[3,4],[5,6]])"
   ]
  },
  {
   "cell_type": "code",
   "execution_count": 31,
   "id": "0f83db2e-ceca-4537-869e-32043bdb6720",
   "metadata": {},
   "outputs": [],
   "source": [
    "b=np.array([[1,2,1],[10,11,12]])"
   ]
  },
  {
   "cell_type": "code",
   "execution_count": null,
   "id": "c91f6026-aed5-4ea9-9d17-232112e6d7ea",
   "metadata": {},
   "outputs": [],
   "source": []
  },
  {
   "cell_type": "code",
   "execution_count": 32,
   "id": "e556e036-061b-44e5-9ebe-40d6ee33cef3",
   "metadata": {},
   "outputs": [],
   "source": [
    "ab = np.dot(a,b)"
   ]
  },
  {
   "cell_type": "code",
   "execution_count": 40,
   "id": "2b381427-cbc7-4940-ba50-cd878f92901a",
   "metadata": {},
   "outputs": [
    {
     "data": {
      "text/plain": [
       "3"
      ]
     },
     "execution_count": 40,
     "metadata": {},
     "output_type": "execute_result"
    }
   ],
   "source": [
    "len(a)"
   ]
  },
  {
   "cell_type": "code",
   "execution_count": 36,
   "id": "435f258d-7073-405c-b810-b1564ec6a52d",
   "metadata": {},
   "outputs": [
    {
     "data": {
      "text/plain": [
       "2"
      ]
     },
     "execution_count": 36,
     "metadata": {},
     "output_type": "execute_result"
    }
   ],
   "source": [
    "len(b)"
   ]
  },
  {
   "cell_type": "code",
   "execution_count": null,
   "id": "d220b55d-26af-421c-9644-713cf81fdf02",
   "metadata": {},
   "outputs": [],
   "source": []
  }
 ],
 "metadata": {
  "kernelspec": {
   "display_name": "Python 3",
   "language": "python",
   "name": "python3"
  },
  "language_info": {
   "codemirror_mode": {
    "name": "ipython",
    "version": 3
   },
   "file_extension": ".py",
   "mimetype": "text/x-python",
   "name": "python",
   "nbconvert_exporter": "python",
   "pygments_lexer": "ipython3",
   "version": "3.8.8"
  }
 },
 "nbformat": 4,
 "nbformat_minor": 5
}
