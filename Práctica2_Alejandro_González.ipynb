{
 "cells": [
  {
   "cell_type": "markdown",
   "id": "6ba1a0ba-3fc5-403b-8b1f-0fb4a0692128",
   "metadata": {},
   "source": [
    "## SECOND PYTHON PROGRAM"
   ]
  },
  {
   "cell_type": "markdown",
   "id": "97e3eba8-69a3-4e5f-9b1b-9a1db449d5c9",
   "metadata": {},
   "source": [
    "1. Cuantos cpu's tiene su equipo?"
   ]
  },
  {
   "cell_type": "code",
   "execution_count": 28,
   "id": "bfde93f1-d13a-41e1-8651-b78197299ffb",
   "metadata": {},
   "outputs": [],
   "source": [
    "import os"
   ]
  },
  {
   "cell_type": "code",
   "execution_count": 29,
   "id": "34790293-8791-4fea-8c6f-0f87f653b812",
   "metadata": {},
   "outputs": [
    {
     "data": {
      "text/plain": [
       "8"
      ]
     },
     "execution_count": 29,
     "metadata": {},
     "output_type": "execute_result"
    }
   ],
   "source": [
    "os.cpu_count()"
   ]
  },
  {
   "cell_type": "markdown",
   "id": "038f78dd-47d0-40ee-ba48-e9196582d10f",
   "metadata": {},
   "source": [
    "2. Cuantos cpu's físicos tiene su equipo?"
   ]
  },
  {
   "cell_type": "code",
   "execution_count": 30,
   "id": "8aed58a3-0123-49f3-8fe7-3b9c4dda26f3",
   "metadata": {},
   "outputs": [
    {
     "data": {
      "text/plain": [
       "4.0"
      ]
     },
     "execution_count": 30,
     "metadata": {},
     "output_type": "execute_result"
    }
   ],
   "source": [
    "os.cpu_count()/2"
   ]
  },
  {
   "cell_type": "markdown",
   "id": "31078478-4658-446a-b5a4-2e8dc0da115d",
   "metadata": {},
   "source": [
    "3. Cuantos cpu's lógicos tiene su equipo?"
   ]
  },
  {
   "cell_type": "code",
   "execution_count": 31,
   "id": "57820a60-626a-4947-adbe-dfba59c80484",
   "metadata": {},
   "outputs": [
    {
     "name": "stdout",
     "output_type": "stream",
     "text": [
      "Mi pc tiene 8 cpu's lógicos\n"
     ]
    }
   ],
   "source": [
    "print (\"Mi pc tiene \" + str(os.cpu_count()) + \" cpu's lógicos\") #str es para pasar de int a string"
   ]
  },
  {
   "cell_type": "markdown",
   "id": "3564cb66-edeb-4e9c-a9d7-ba4c0c35f6ff",
   "metadata": {},
   "source": [
    "4. Cree una función con el objeto de mantener su cpu activa indefinidamente."
   ]
  },
  {
   "cell_type": "code",
   "execution_count": 32,
   "id": "864f278b-8388-4e64-ae6b-31f71caeb927",
   "metadata": {},
   "outputs": [],
   "source": [
    "def act():\n",
    "    while True:\n",
    "        pass #El pass es literalmente pasar"
   ]
  },
  {
   "cell_type": "markdown",
   "id": "24a7b6bb-13f4-4eea-87cb-eb9b88c38acb",
   "metadata": {},
   "source": [
    "5. Que version de Python tienes instalada?"
   ]
  },
  {
   "cell_type": "code",
   "execution_count": 33,
   "id": "e074a306-971b-44f5-966d-953aa863366c",
   "metadata": {},
   "outputs": [
    {
     "data": {
      "text/plain": [
       "'3.8.8'"
      ]
     },
     "execution_count": 33,
     "metadata": {},
     "output_type": "execute_result"
    }
   ],
   "source": [
    "import platform as pl\n",
    "pl.python_version() #Si empieza con funcion pongo parentesis"
   ]
  },
  {
   "cell_type": "code",
   "execution_count": 34,
   "id": "afaa843e-8b2b-46a1-80ec-2e75fe6dd348",
   "metadata": {},
   "outputs": [
    {
     "data": {
      "text/plain": [
       "'alejx'"
      ]
     },
     "execution_count": 34,
     "metadata": {},
     "output_type": "execute_result"
    }
   ],
   "source": [
    "os.getlogin()"
   ]
  },
  {
   "cell_type": "markdown",
   "id": "106b505e-f4e9-498f-b138-3c895126b033",
   "metadata": {},
   "source": [
    "6. Su máquina es de 32 o 64?"
   ]
  },
  {
   "cell_type": "code",
   "execution_count": 35,
   "id": "118759d5-576f-4857-8c38-97704a398a69",
   "metadata": {},
   "outputs": [
    {
     "data": {
      "text/plain": [
       "('64bit', 'WindowsPE')"
      ]
     },
     "execution_count": 35,
     "metadata": {},
     "output_type": "execute_result"
    }
   ],
   "source": [
    "pl.architecture()"
   ]
  },
  {
   "cell_type": "markdown",
   "id": "bc51e5e0-827d-479f-a59f-eec280be8d1e",
   "metadata": {},
   "source": [
    "7. Cree una función que imprima del 1 al 10."
   ]
  },
  {
   "cell_type": "code",
   "execution_count": 36,
   "id": "b1f0ce1e-b912-4b09-bcf4-d34010cf3fc1",
   "metadata": {},
   "outputs": [],
   "source": [
    "def contar():\n",
    "    for i in range(1,11):\n",
    "        print (i)"
   ]
  },
  {
   "cell_type": "code",
   "execution_count": 37,
   "id": "66b52e60-d9a2-42df-ba36-7145157fcee3",
   "metadata": {},
   "outputs": [
    {
     "name": "stdout",
     "output_type": "stream",
     "text": [
      "1\n",
      "2\n",
      "3\n",
      "4\n",
      "5\n",
      "6\n",
      "7\n",
      "8\n",
      "9\n",
      "10\n"
     ]
    }
   ],
   "source": [
    "contar()"
   ]
  },
  {
   "cell_type": "markdown",
   "id": "9835d0bf-b81f-432f-a46b-3121e08004ae",
   "metadata": {},
   "source": [
    "8. Ejecute 20 veces la funcion antes mencionada"
   ]
  },
  {
   "cell_type": "code",
   "execution_count": 38,
   "id": "78464719-37d5-4533-9a74-7eb2573d5017",
   "metadata": {
    "tags": []
   },
   "outputs": [],
   "source": [
    "import threading as th"
   ]
  },
  {
   "cell_type": "code",
   "execution_count": 43,
   "id": "856f31d2-fc7c-4f25-93f7-d406302354a5",
   "metadata": {},
   "outputs": [
    {
     "name": "stdout",
     "output_type": "stream",
     "text": [
      "1\n",
      "2\n",
      "3\n",
      "4\n",
      "5\n",
      "6\n",
      "7\n",
      "8\n",
      "9\n",
      "10\n",
      "1\n",
      "2\n",
      "3\n",
      "4\n",
      "5\n",
      "6\n",
      "7\n",
      "8\n",
      "9\n",
      "10\n",
      "1\n",
      "2\n",
      "3\n",
      "4\n",
      "5\n",
      "6\n",
      "7\n",
      "8\n",
      "9\n",
      "10\n"
     ]
    }
   ],
   "source": [
    "th.Thread(target=contar()).start()\n",
    "for j in range(2):\n",
    "    th.Thread(target=contar()).start()"
   ]
  },
  {
   "cell_type": "code",
   "execution_count": 40,
   "id": "ae65b9cf-28cd-42cc-9e41-dfedeb2e7ecb",
   "metadata": {},
   "outputs": [
    {
     "name": "stdout",
     "output_type": "stream",
     "text": [
      "1\n",
      "2\n",
      "3\n",
      "4\n",
      "5\n",
      "6\n",
      "7\n",
      "8\n",
      "9\n",
      "10\n",
      "1\n",
      "2\n",
      "3\n",
      "4\n",
      "5\n",
      "6\n",
      "7\n",
      "8\n",
      "9\n",
      "10\n"
     ]
    }
   ],
   "source": [
    "for j in range(2):\n",
    "    th.Thread(target=contar()).start()"
   ]
  },
  {
   "cell_type": "markdown",
   "id": "748a09c7-3392-4b2f-8c5a-bcdfabb26b39",
   "metadata": {},
   "source": [
    "9. Cuántos hilos estan activos?"
   ]
  },
  {
   "cell_type": "code",
   "execution_count": 41,
   "id": "254cba27-d8f6-46f3-9eed-6362815ca8bd",
   "metadata": {},
   "outputs": [
    {
     "data": {
      "text/plain": [
       "5"
      ]
     },
     "execution_count": 41,
     "metadata": {},
     "output_type": "execute_result"
    }
   ],
   "source": [
    "th.active_count()"
   ]
  },
  {
   "cell_type": "markdown",
   "id": "87c6c344-09bf-423b-b89a-44a35bf0fbb7",
   "metadata": {},
   "source": [
    "10. Imprima sus identificadores."
   ]
  },
  {
   "cell_type": "code",
   "execution_count": 42,
   "id": "815be30a-872f-4132-ae5e-b854e09df507",
   "metadata": {},
   "outputs": [
    {
     "data": {
      "text/plain": [
       "[<_MainThread(MainThread, started 14216)>,\n",
       " <Thread(Thread-4, started daemon 5168)>,\n",
       " <Heartbeat(Thread-5, started daemon 9144)>,\n",
       " <HistorySavingThread(IPythonHistorySavingThread, started 18104)>,\n",
       " <ParentPollerWindows(Thread-3, started daemon 9624)>]"
      ]
     },
     "execution_count": 42,
     "metadata": {},
     "output_type": "execute_result"
    }
   ],
   "source": [
    "th.enumerate()"
   ]
  },
  {
   "cell_type": "code",
   "execution_count": null,
   "id": "fd5df27e-5c79-4dbc-9355-585d0bd1695f",
   "metadata": {},
   "outputs": [],
   "source": []
  },
  {
   "cell_type": "code",
   "execution_count": null,
   "id": "86688457-8733-4e86-a0c5-78d5df549311",
   "metadata": {},
   "outputs": [],
   "source": []
  },
  {
   "cell_type": "code",
   "execution_count": null,
   "id": "d7dfb2f6",
   "metadata": {},
   "outputs": [],
   "source": []
  },
  {
   "cell_type": "code",
   "execution_count": null,
   "id": "42b95918",
   "metadata": {},
   "outputs": [],
   "source": []
  },
  {
   "cell_type": "code",
   "execution_count": null,
   "id": "66415add",
   "metadata": {},
   "outputs": [],
   "source": []
  },
  {
   "cell_type": "code",
   "execution_count": null,
   "id": "004a0bbf",
   "metadata": {},
   "outputs": [],
   "source": []
  },
  {
   "cell_type": "code",
   "execution_count": null,
   "id": "b036e3a6",
   "metadata": {},
   "outputs": [],
   "source": []
  },
  {
   "cell_type": "code",
   "execution_count": null,
   "id": "9d3f44b8",
   "metadata": {},
   "outputs": [],
   "source": []
  },
  {
   "cell_type": "code",
   "execution_count": null,
   "id": "0942b684",
   "metadata": {},
   "outputs": [],
   "source": []
  },
  {
   "cell_type": "code",
   "execution_count": null,
   "id": "6fbec56a",
   "metadata": {},
   "outputs": [],
   "source": []
  },
  {
   "cell_type": "code",
   "execution_count": null,
   "id": "9a3de4d3",
   "metadata": {},
   "outputs": [],
   "source": []
  },
  {
   "cell_type": "code",
   "execution_count": null,
   "id": "6cef7b0d",
   "metadata": {},
   "outputs": [],
   "source": []
  },
  {
   "cell_type": "code",
   "execution_count": null,
   "id": "720850bb",
   "metadata": {},
   "outputs": [],
   "source": []
  },
  {
   "cell_type": "code",
   "execution_count": null,
   "id": "a4f661c5",
   "metadata": {},
   "outputs": [],
   "source": []
  },
  {
   "cell_type": "code",
   "execution_count": null,
   "id": "3fbe174d",
   "metadata": {},
   "outputs": [],
   "source": []
  },
  {
   "cell_type": "code",
   "execution_count": null,
   "id": "043cdb75",
   "metadata": {},
   "outputs": [],
   "source": []
  },
  {
   "cell_type": "code",
   "execution_count": null,
   "id": "39330246",
   "metadata": {},
   "outputs": [],
   "source": []
  },
  {
   "cell_type": "code",
   "execution_count": null,
   "id": "72e547d6",
   "metadata": {},
   "outputs": [],
   "source": []
  },
  {
   "cell_type": "code",
   "execution_count": null,
   "id": "e2fcba5c",
   "metadata": {},
   "outputs": [],
   "source": []
  },
  {
   "cell_type": "code",
   "execution_count": null,
   "id": "0831f2e8",
   "metadata": {},
   "outputs": [],
   "source": []
  },
  {
   "cell_type": "code",
   "execution_count": null,
   "id": "5ea9626d",
   "metadata": {},
   "outputs": [],
   "source": []
  },
  {
   "cell_type": "code",
   "execution_count": null,
   "id": "88722785",
   "metadata": {},
   "outputs": [],
   "source": []
  },
  {
   "cell_type": "code",
   "execution_count": null,
   "id": "03573642",
   "metadata": {},
   "outputs": [],
   "source": []
  },
  {
   "cell_type": "code",
   "execution_count": null,
   "id": "961592fc",
   "metadata": {},
   "outputs": [],
   "source": []
  },
  {
   "cell_type": "code",
   "execution_count": null,
   "id": "454aacd8",
   "metadata": {},
   "outputs": [],
   "source": []
  },
  {
   "cell_type": "code",
   "execution_count": null,
   "id": "79774968",
   "metadata": {},
   "outputs": [],
   "source": []
  },
  {
   "cell_type": "code",
   "execution_count": null,
   "id": "73686bf4",
   "metadata": {},
   "outputs": [],
   "source": []
  },
  {
   "cell_type": "code",
   "execution_count": null,
   "id": "65611f6e",
   "metadata": {},
   "outputs": [],
   "source": []
  },
  {
   "cell_type": "code",
   "execution_count": null,
   "id": "cf5a0330",
   "metadata": {},
   "outputs": [],
   "source": []
  },
  {
   "cell_type": "code",
   "execution_count": null,
   "id": "292e6442",
   "metadata": {},
   "outputs": [],
   "source": []
  },
  {
   "cell_type": "code",
   "execution_count": null,
   "id": "1b5b3504",
   "metadata": {},
   "outputs": [],
   "source": []
  },
  {
   "cell_type": "code",
   "execution_count": null,
   "id": "93797645",
   "metadata": {},
   "outputs": [],
   "source": []
  },
  {
   "cell_type": "code",
   "execution_count": null,
   "id": "82680fc6",
   "metadata": {},
   "outputs": [],
   "source": []
  },
  {
   "cell_type": "code",
   "execution_count": null,
   "id": "efc18e9e",
   "metadata": {},
   "outputs": [],
   "source": []
  },
  {
   "cell_type": "code",
   "execution_count": null,
   "id": "ddc1ba8e",
   "metadata": {},
   "outputs": [],
   "source": []
  },
  {
   "cell_type": "code",
   "execution_count": null,
   "id": "884bb054",
   "metadata": {},
   "outputs": [],
   "source": []
  },
  {
   "cell_type": "code",
   "execution_count": null,
   "id": "ff3db20d",
   "metadata": {},
   "outputs": [],
   "source": []
  },
  {
   "cell_type": "code",
   "execution_count": null,
   "id": "e53c940c",
   "metadata": {},
   "outputs": [],
   "source": []
  },
  {
   "cell_type": "code",
   "execution_count": null,
   "id": "62999232",
   "metadata": {},
   "outputs": [],
   "source": []
  },
  {
   "cell_type": "code",
   "execution_count": null,
   "id": "45dc1e4f",
   "metadata": {},
   "outputs": [],
   "source": []
  },
  {
   "cell_type": "code",
   "execution_count": null,
   "id": "ca7b8540",
   "metadata": {},
   "outputs": [],
   "source": []
  }
 ],
 "metadata": {
  "kernelspec": {
   "display_name": "Python 3",
   "language": "python",
   "name": "python3"
  },
  "language_info": {
   "codemirror_mode": {
    "name": "ipython",
    "version": 3
   },
   "file_extension": ".py",
   "mimetype": "text/x-python",
   "name": "python",
   "nbconvert_exporter": "python",
   "pygments_lexer": "ipython3",
   "version": "3.8.8"
  }
 },
 "nbformat": 4,
 "nbformat_minor": 5
}
