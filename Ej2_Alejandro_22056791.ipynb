{
 "cells": [
  {
   "cell_type": "markdown",
   "id": "6ba1a0ba-3fc5-403b-8b1f-0fb4a0692128",
   "metadata": {},
   "source": [
    "# SECOND PYTHON PROGRAM"
   ]
  },
  {
   "cell_type": "markdown",
   "id": "97e3eba8-69a3-4e5f-9b1b-9a1db449d5c9",
   "metadata": {},
   "source": [
    "1. Cuantos cpu's tiene su equipo?"
   ]
  },
  {
   "cell_type": "code",
   "execution_count": null,
   "id": "bfde93f1-d13a-41e1-8651-b78197299ffb",
   "metadata": {},
   "outputs": [],
   "source": [
    "import os"
   ]
  },
  {
   "cell_type": "code",
   "execution_count": null,
   "id": "34790293-8791-4fea-8c6f-0f87f653b812",
   "metadata": {},
   "outputs": [],
   "source": [
    "os.cpu_count()"
   ]
  },
  {
   "cell_type": "markdown",
   "id": "038f78dd-47d0-40ee-ba48-e9196582d10f",
   "metadata": {},
   "source": [
    "2. Cuantos cpu's físicos tiene su equipo?"
   ]
  },
  {
   "cell_type": "code",
   "execution_count": null,
   "id": "8aed58a3-0123-49f3-8fe7-3b9c4dda26f3",
   "metadata": {},
   "outputs": [],
   "source": [
    "os.cpu_count()/2"
   ]
  },
  {
   "cell_type": "markdown",
   "id": "31078478-4658-446a-b5a4-2e8dc0da115d",
   "metadata": {},
   "source": [
    "3. Cuantos cpu's lógicos tiene su equipo?"
   ]
  },
  {
   "cell_type": "code",
   "execution_count": null,
   "id": "57820a60-626a-4947-adbe-dfba59c80484",
   "metadata": {},
   "outputs": [],
   "source": [
    "print (\"Mi pc tiene \" + str(os.cpu_count()) + \" cpu's lógicos\") #str es para pasar de int a string"
   ]
  },
  {
   "cell_type": "markdown",
   "id": "3564cb66-edeb-4e9c-a9d7-ba4c0c35f6ff",
   "metadata": {},
   "source": [
    "4. Cree una función con el objeto de mantener su cpu activa indefinidamente."
   ]
  },
  {
   "cell_type": "code",
   "execution_count": null,
   "id": "864f278b-8388-4e64-ae6b-31f71caeb927",
   "metadata": {},
   "outputs": [],
   "source": [
    "def act():\n",
    "    while True:\n",
    "        pass #El pass es literalmente pasar"
   ]
  },
  {
   "cell_type": "markdown",
   "id": "24a7b6bb-13f4-4eea-87cb-eb9b88c38acb",
   "metadata": {},
   "source": [
    "5. Que version de Python tienes instalada?"
   ]
  },
  {
   "cell_type": "code",
   "execution_count": null,
   "id": "e074a306-971b-44f5-966d-953aa863366c",
   "metadata": {},
   "outputs": [],
   "source": [
    "import platform as pl\n",
    "pl.python_version() #Si empieza con funcion pongo parentesis"
   ]
  },
  {
   "cell_type": "code",
   "execution_count": null,
   "id": "afaa843e-8b2b-46a1-80ec-2e75fe6dd348",
   "metadata": {},
   "outputs": [],
   "source": [
    "os.getlogin()"
   ]
  },
  {
   "cell_type": "markdown",
   "id": "106b505e-f4e9-498f-b138-3c895126b033",
   "metadata": {},
   "source": [
    "6. Su máquina es de 32 o 64?"
   ]
  },
  {
   "cell_type": "code",
   "execution_count": null,
   "id": "118759d5-576f-4857-8c38-97704a398a69",
   "metadata": {},
   "outputs": [],
   "source": [
    "pl.architecture()"
   ]
  },
  {
   "cell_type": "markdown",
   "id": "bc51e5e0-827d-479f-a59f-eec280be8d1e",
   "metadata": {},
   "source": [
    "7. Cree una función que imprima del 1 al 10."
   ]
  },
  {
   "cell_type": "code",
   "execution_count": null,
   "id": "b1f0ce1e-b912-4b09-bcf4-d34010cf3fc1",
   "metadata": {},
   "outputs": [],
   "source": [
    "def contar():\n",
    "    for i in range(1,11):\n",
    "        print (i)"
   ]
  },
  {
   "cell_type": "code",
   "execution_count": null,
   "id": "66b52e60-d9a2-42df-ba36-7145157fcee3",
   "metadata": {},
   "outputs": [],
   "source": [
    "contar()"
   ]
  },
  {
   "cell_type": "markdown",
   "id": "9835d0bf-b81f-432f-a46b-3121e08004ae",
   "metadata": {},
   "source": [
    "8. Ejecute 20 veces la función antes mencionada."
   ]
  },
  {
   "cell_type": "code",
   "execution_count": null,
   "id": "78464719-37d5-4533-9a74-7eb2573d5017",
   "metadata": {
    "tags": []
   },
   "outputs": [],
   "source": [
    "import threading as th"
   ]
  },
  {
   "cell_type": "code",
   "execution_count": null,
   "id": "856f31d2-fc7c-4f25-93f7-d406302354a5",
   "metadata": {
    "tags": []
   },
   "outputs": [],
   "source": [
    "for j in range(20):\n",
    "    th.Thread(target=contar()).start()"
   ]
  },
  {
   "cell_type": "markdown",
   "id": "748a09c7-3392-4b2f-8c5a-bcdfabb26b39",
   "metadata": {},
   "source": [
    "9. Cuántos hilos estan activos?"
   ]
  },
  {
   "cell_type": "code",
   "execution_count": null,
   "id": "254cba27-d8f6-46f3-9eed-6362815ca8bd",
   "metadata": {
    "scrolled": true
   },
   "outputs": [],
   "source": [
    "th.active_count()"
   ]
  },
  {
   "cell_type": "markdown",
   "id": "87c6c344-09bf-423b-b89a-44a35bf0fbb7",
   "metadata": {},
   "source": [
    "10. Imprima sus identificadores."
   ]
  },
  {
   "cell_type": "code",
   "execution_count": null,
   "id": "815be30a-872f-4132-ae5e-b854e09df507",
   "metadata": {},
   "outputs": [],
   "source": [
    "th.enumerate()"
   ]
  }
 ],
 "metadata": {
  "kernelspec": {
   "display_name": "Python 3",
   "language": "python",
   "name": "python3"
  },
  "language_info": {
   "codemirror_mode": {
    "name": "ipython",
    "version": 3
   },
   "file_extension": ".py",
   "mimetype": "text/x-python",
   "name": "python",
   "nbconvert_exporter": "python",
   "pygments_lexer": "ipython3",
   "version": "3.8.8"
  }
 },
 "nbformat": 4,
 "nbformat_minor": 5
}
