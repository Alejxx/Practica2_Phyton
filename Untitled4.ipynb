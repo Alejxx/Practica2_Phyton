{
 "cells": [
  {
   "cell_type": "code",
   "execution_count": 13,
   "id": "51bd3c73-7aa1-471d-8721-dff2aa940827",
   "metadata": {},
   "outputs": [],
   "source": [
    "import multiprocessing as mp, os, numpy as np, IPython as Ip"
   ]
  },
  {
   "cell_type": "code",
   "execution_count": 28,
   "id": "fa077b9f-64e6-44ac-8723-3cb429cf67eb",
   "metadata": {},
   "outputs": [],
   "source": [
    "def par(a, b):\n",
    "    n_cores= mp.cpu_count()\n",
    "    size_fil = n_col_b/n_cores\n",
    "    size_col = n_fil_a\n",
    "    mc = mp.RawArray\n",
    "    pass"
   ]
  },
  {
   "cell_type": "code",
   "execution_count": 23,
   "id": "0bcf804c-22e9-47e5-b064-605d563fcd84",
   "metadata": {},
   "outputs": [],
   "source": [
    "def par_core(a,b,mc, i_mc, f_mc):\n",
    "    for i in range(i_mc, f_mc):\n",
    "        for j in range(len(b[10])):\n",
    "            mc[i*len(b[0])+j]+=a[j][k]*b[k][j]"
   ]
  },
  {
   "cell_type": "code",
   "execution_count": 24,
   "id": "8534cc05-feea-4dd6-984f-c37ab27250d3",
   "metadata": {},
   "outputs": [
    {
     "ename": "SyntaxError",
     "evalue": "invalid syntax (<ipython-input-24-afe3f4951e49>, line 2)",
     "output_type": "error",
     "traceback": [
      "\u001b[1;36m  File \u001b[1;32m\"<ipython-input-24-afe3f4951e49>\"\u001b[1;36m, line \u001b[1;32m2\u001b[0m\n\u001b[1;33m    dor i in range():\u001b[0m\n\u001b[1;37m        ^\u001b[0m\n\u001b[1;31mSyntaxError\u001b[0m\u001b[1;31m:\u001b[0m invalid syntax\n"
     ]
    }
   ],
   "source": [
    "def seq(a, b):\n",
    "    dor i in range():\n",
    "        for j in range():\n",
    "            ab[i][k]=a[i][j]"
   ]
  },
  {
   "cell_type": "code",
   "execution_count": 17,
   "id": "5d5b3f2d-0496-420a-8cb7-044ddd3d41fb",
   "metadata": {},
   "outputs": [
    {
     "data": {
      "text/plain": [
       "'C:\\\\Users\\\\alejx\\\\Programas_Python'"
      ]
     },
     "execution_count": 17,
     "metadata": {},
     "output_type": "execute_result"
    }
   ],
   "source": [
    "pwd"
   ]
  },
  {
   "cell_type": "code",
   "execution_count": 18,
   "id": "81c00a7a-6d54-432b-9a61-50d5c0b1d17e",
   "metadata": {},
   "outputs": [],
   "source": [
    "a=[[2,3,4],[3,4,5]]"
   ]
  },
  {
   "cell_type": "code",
   "execution_count": 19,
   "id": "c8f1c126-724c-4ab2-b8b1-a5a1ec56a84b",
   "metadata": {},
   "outputs": [
    {
     "data": {
      "text/plain": [
       "3"
      ]
     },
     "execution_count": 19,
     "metadata": {},
     "output_type": "execute_result"
    }
   ],
   "source": [
    "len(a[0])"
   ]
  },
  {
   "cell_type": "code",
   "execution_count": null,
   "id": "533e551a-f8d3-46ac-8830-0d5868bc1765",
   "metadata": {},
   "outputs": [],
   "source": []
  },
  {
   "cell_type": "code",
   "execution_count": null,
   "id": "ea5d6b71-332a-49b9-89d7-aa72dd764987",
   "metadata": {},
   "outputs": [],
   "source": []
  }
 ],
 "metadata": {
  "kernelspec": {
   "display_name": "Python 3",
   "language": "python",
   "name": "python3"
  },
  "language_info": {
   "codemirror_mode": {
    "name": "ipython",
    "version": 3
   },
   "file_extension": ".py",
   "mimetype": "text/x-python",
   "name": "python",
   "nbconvert_exporter": "python",
   "pygments_lexer": "ipython3",
   "version": "3.8.8"
  }
 },
 "nbformat": 4,
 "nbformat_minor": 5
}
